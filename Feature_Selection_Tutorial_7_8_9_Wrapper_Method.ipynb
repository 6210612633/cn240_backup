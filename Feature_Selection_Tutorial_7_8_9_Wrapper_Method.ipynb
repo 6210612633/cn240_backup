{
 "cells": [
  {
   "cell_type": "markdown",
   "metadata": {},
   "source": [
    "## Feature Selecetion\n",
    "\n",
    "Youtube Video Explanation:\n",
    "\n",
    "- Forward Feature Selection :  https://youtu.be/pmZNQoUfp3Y\n",
    "- Backward Feature Selection : https://youtu.be/2Y4PrhMyqX0\n",
    "- Exhaustive Feature Selection : https://youtu.be/0ciQ-FzhrQw"
   ]
  },
  {
   "cell_type": "markdown",
   "metadata": {},
   "source": [
    "**Wrapper Method**\n",
    "\n",
    "- The main idea behind a wrapper method is to select which set of features works best for a machine learning model.\n",
    "- It follows a greedy search approach by evaluating all the possible combinations of features against the evaluation \n",
    "  criterion.\n",
    "- The evaluation criterion is simply the performance measure which depends on the type of problem, for e.g. For regression evaluation criterion can be MSE,MAE,MAPE,R-squared, Adjusted R-squared, similarly for classification the evaluation criterion can be accuracy, precision, recall, f1-score, etc. It selects the combination of features that gives the optimal results for the specified machine learning algorithm.\n",
    "\n",
    "**1. Forward Selection**\n",
    "\n",
    "Forward selection is an iterative method in each iteration, we keep adding the feature which best improves our\n",
    "model till an addition of a new variable does not improve the performance of the model.\n",
    "\n",
    "**2. Backward Selection**\n",
    "\n",
    "In backward elimination, we start with all the features and removes the least significant feature at each\n",
    "iteration which improves the performance of the model. We repeat this until no improvement is observed on removal\n",
    "of features.\n",
    "\n",
    "**3. Exhaustive Feature Selection**\n",
    "\n",
    "This is the most robust feature selection method covered so far. This is a brute-force evaluation of each feature subset. This means that it tries every possible combination of the variables and returns the best performing subset."
   ]
  },
  {
   "cell_type": "markdown",
   "metadata": {},
   "source": [
    "## Forward Feature Selection\n",
    "\n",
    "- In forward selection, we start with a null model and then start fitting the model with each individual feature one at a time and select the feature with the higest arruracy for classificartion and less MSE/MAPE/MAE for regression models. \n",
    "\n",
    "- Now fit a model with two features by trying combinations of the earlier selected feature with all other remaining features. Again select the feature with the higest arruracy for classificartion and less MSE/MAPE/MAE for regression models. \n",
    "\n",
    "- Now fit a model with three features by trying combinations of two previously selected features with other remaining features. Repeat this process until we have a set of selected features with a higest arruracy for classificartion and minimum MSE/MAPE/MAE for regression models of individual features."
   ]
  },
  {
   "cell_type": "markdown",
   "metadata": {},
   "source": [
    "### Forward Feature Selection for Classification Problem"
   ]
  },
  {
   "cell_type": "code",
   "execution_count": 814,
   "metadata": {},
   "outputs": [],
   "source": [
    "import pandas as pd\n",
    "import numpy as np\n",
    "import seaborn as sns\n",
    "from sklearn import metrics\n",
    "import matplotlib.pyplot as plt"
   ]
  },
  {
   "cell_type": "code",
   "execution_count": 815,
   "metadata": {},
   "outputs": [
    {
     "data": {
      "text/plain": [
       "'\\nset = 4\\ndf_loan = pd.read_csv(f\"Fold2/fold{set}/train.csv\")\\ndf_test = pd.read_csv(f\"Fold2/fold{set}/test.csv\")\\ndf_val = pd.read_csv(f\"Fold2/fold{set}/validate.csv\")\\n'"
      ]
     },
     "execution_count": 815,
     "metadata": {},
     "output_type": "execute_result"
    }
   ],
   "source": [
    "\"\"\"\n",
    "set = 4\n",
    "df_loan = pd.read_csv(f\"Fold2/fold{set}/train.csv\")\n",
    "df_test = pd.read_csv(f\"Fold2/fold{set}/test.csv\")\n",
    "df_val = pd.read_csv(f\"Fold2/fold{set}/validate.csv\")\n",
    "\"\"\""
   ]
  },
  {
   "cell_type": "code",
   "execution_count": 816,
   "metadata": {},
   "outputs": [],
   "source": [
    "#df_loan\n",
    "df_loan = pd.read_csv(\"new_scores2.csv\")"
   ]
  },
  {
   "cell_type": "code",
   "execution_count": 817,
   "metadata": {},
   "outputs": [
    {
     "name": "stdout",
     "output_type": "stream",
     "text": [
      "<class 'pandas.core.frame.DataFrame'>\n",
      "RangeIndex: 55 entries, 0 to 54\n",
      "Data columns (total 21 columns):\n",
      " #   Column        Non-Null Count  Dtype  \n",
      "---  ------        --------------  -----  \n",
      " 0   Unnamed: 0    55 non-null     int64  \n",
      " 1   number        55 non-null     object \n",
      " 2   days          55 non-null     int64  \n",
      " 3   gender        55 non-null     int64  \n",
      " 4   age           55 non-null     object \n",
      " 5   afftype       55 non-null     int64  \n",
      " 6   melanch       55 non-null     int64  \n",
      " 7   inpatient     55 non-null     int64  \n",
      " 8   marriage      55 non-null     int64  \n",
      " 9   work          55 non-null     int64  \n",
      " 10  madrs1        55 non-null     int64  \n",
      " 11  madrs2        55 non-null     int64  \n",
      " 12  DeltaMADRS    23 non-null     float64\n",
      " 13  Mean_MeanAct  55 non-null     float64\n",
      " 14  Mean_Q99Act   55 non-null     float64\n",
      " 15  Std_MeanAct   55 non-null     float64\n",
      " 16  Std_Q99Act    55 non-null     float64\n",
      " 17  CV_MeanAct    55 non-null     float64\n",
      " 18  CV_Q99Act     55 non-null     float64\n",
      " 19  Stress        55 non-null     float64\n",
      " 20  depressed     55 non-null     int64  \n",
      "dtypes: float64(8), int64(11), object(2)\n",
      "memory usage: 9.1+ KB\n"
     ]
    }
   ],
   "source": [
    "df_loan.info()"
   ]
  },
  {
   "cell_type": "code",
   "execution_count": 818,
   "metadata": {},
   "outputs": [
    {
     "data": {
      "text/plain": [
       "'\\ndf_test.drop(labels=[\"Unnamed: 0\",\"number\",\"age\",\"afftype\", \"melanch\",\"marriage\",\"work\",\"madrs1\",\"madrs2\",\"DeltaMADRS\"],axis=1,inplace=True)\\ndf_test.reset_index(drop=True,inplace=True)\\ndf_val.drop(labels=[\"Unnamed: 0\",\"number\",\"age\",\"afftype\", \"melanch\",\"inpatient\",\"marriage\",\"work\",\"madrs1\",\"madrs2\",\"DeltaMADRS\"],axis=1,inplace=True)\\ndf_val.reset_index(drop=True,inplace=True)\\n'"
      ]
     },
     "execution_count": 818,
     "metadata": {},
     "output_type": "execute_result"
    }
   ],
   "source": [
    "# Remove all null value\n",
    "#df_loan.dropna(inplace=True)\n",
    "# drop the uninformatica column(\"Loan_ID\")\n",
    "\n",
    "df_loan.drop(labels=[\"Unnamed: 0\",\"number\",\"age\",\"DeltaMADRS\",\"days\",'CV_MeanAct','CV_Q99Act',\"Stress\",\"afftype\", \"melanch\",\"inpatient\"],axis=1,inplace=True)\n",
    "df_loan.reset_index(drop=True,inplace=True)\n",
    "\"\"\"\n",
    "df_test.drop(labels=[\"Unnamed: 0\",\"number\",\"age\",\"afftype\", \"melanch\",\"marriage\",\"work\",\"madrs1\",\"madrs2\",\"DeltaMADRS\"],axis=1,inplace=True)\n",
    "df_test.reset_index(drop=True,inplace=True)\n",
    "df_val.drop(labels=[\"Unnamed: 0\",\"number\",\"age\",\"afftype\", \"melanch\",\"inpatient\",\"marriage\",\"work\",\"madrs1\",\"madrs2\",\"DeltaMADRS\"],axis=1,inplace=True)\n",
    "df_val.reset_index(drop=True,inplace=True)\n",
    "\n",
    "\"\"\"\n"
   ]
  },
  {
   "cell_type": "code",
   "execution_count": 819,
   "metadata": {},
   "outputs": [],
   "source": [
    "#df_loan"
   ]
  },
  {
   "cell_type": "code",
   "execution_count": 820,
   "metadata": {},
   "outputs": [],
   "source": [
    "from sklearn.preprocessing import LabelEncoder\n",
    "le = LabelEncoder()\n",
    "cols = df_loan.columns.tolist()\n",
    "for column in cols:\n",
    "    if df_loan[column].dtype == 'object':\n",
    "        df_loan[column] = le.fit_transform(df_loan[column])"
   ]
  },
  {
   "cell_type": "code",
   "execution_count": 821,
   "metadata": {},
   "outputs": [
    {
     "data": {
      "text/plain": [
       "'\\nX_test = df_test.iloc[:,0:-1]\\ny_test = df_test[\"y\"]\\nX_val = df_val.iloc[:,0:-1]\\ny_val = df_val[\"y\"]\\n'"
      ]
     },
     "execution_count": 821,
     "metadata": {},
     "output_type": "execute_result"
    }
   ],
   "source": [
    "X = df_loan.iloc[:,0:-1]\n",
    "y = df_loan[\"depressed\"]\n",
    "\n",
    "\"\"\"\n",
    "X_test = df_test.iloc[:,0:-1]\n",
    "y_test = df_test[\"y\"]\n",
    "X_val = df_val.iloc[:,0:-1]\n",
    "y_val = df_val[\"y\"]\n",
    "\"\"\""
   ]
  },
  {
   "cell_type": "code",
   "execution_count": 822,
   "metadata": {},
   "outputs": [
    {
     "data": {
      "text/plain": [
       "0     1\n",
       "1     1\n",
       "2     1\n",
       "3     1\n",
       "4     1\n",
       "5     1\n",
       "6     1\n",
       "7     1\n",
       "8     1\n",
       "9     1\n",
       "10    1\n",
       "11    1\n",
       "12    1\n",
       "13    1\n",
       "14    1\n",
       "15    1\n",
       "16    1\n",
       "17    1\n",
       "18    1\n",
       "19    1\n",
       "20    1\n",
       "21    1\n",
       "22    1\n",
       "23    0\n",
       "24    0\n",
       "25    0\n",
       "26    0\n",
       "27    0\n",
       "28    0\n",
       "29    0\n",
       "30    0\n",
       "31    0\n",
       "32    0\n",
       "33    0\n",
       "34    0\n",
       "35    0\n",
       "36    0\n",
       "37    0\n",
       "38    0\n",
       "39    0\n",
       "40    0\n",
       "41    0\n",
       "42    0\n",
       "43    0\n",
       "44    0\n",
       "45    0\n",
       "46    0\n",
       "47    0\n",
       "48    0\n",
       "49    0\n",
       "50    0\n",
       "51    0\n",
       "52    0\n",
       "53    0\n",
       "54    0\n",
       "Name: depressed, dtype: int64"
      ]
     },
     "execution_count": 822,
     "metadata": {},
     "output_type": "execute_result"
    }
   ],
   "source": [
    "y"
   ]
  },
  {
   "cell_type": "code",
   "execution_count": 823,
   "metadata": {},
   "outputs": [
    {
     "name": "stdout",
     "output_type": "stream",
     "text": [
      "(55, 9)\n",
      "(55,)\n",
      "<class 'pandas.core.frame.DataFrame'>\n",
      "<class 'pandas.core.series.Series'>\n"
     ]
    }
   ],
   "source": [
    "print(X.shape)\n",
    "print(y.shape)\n",
    "print(type(X))\n",
    "print(type(y))"
   ]
  },
  {
   "cell_type": "code",
   "execution_count": 824,
   "metadata": {},
   "outputs": [],
   "source": [
    "# http://rasbt.github.io/mlxtend/user_guide/feature_selection/SequentialFeatureSelector/\n",
    "# Lets use the built in function in Python\n",
    "from mlxtend.feature_selection import SequentialFeatureSelector as SFS\n",
    "from sklearn.neighbors import KNeighborsClassifier as knn\n",
    "from sklearn.linear_model import LogisticRegression as LGR\n",
    "from sklearn.ensemble import RandomForestClassifier as rfc"
   ]
  },
  {
   "cell_type": "code",
   "execution_count": 825,
   "metadata": {},
   "outputs": [],
   "source": [
    "#from sklearn.datasets import load_iris"
   ]
  },
  {
   "cell_type": "code",
   "execution_count": 826,
   "metadata": {},
   "outputs": [],
   "source": [
    "#iris = load_iris()\n",
    "#X = iris.data\n",
    "#y = iris.target"
   ]
  },
  {
   "cell_type": "code",
   "execution_count": 827,
   "metadata": {},
   "outputs": [
    {
     "data": {
      "text/plain": [
       "('gender',\n",
       " 'marriage',\n",
       " 'work',\n",
       " 'madrs1',\n",
       " 'madrs2',\n",
       " 'Mean_MeanAct',\n",
       " 'Mean_Q99Act',\n",
       " 'Std_MeanAct',\n",
       " 'Std_Q99Act')"
      ]
     },
     "execution_count": 827,
     "metadata": {},
     "output_type": "execute_result"
    }
   ],
   "source": [
    "feature_names=tuple(X.columns)\n",
    "feature_names"
   ]
  },
  {
   "cell_type": "code",
   "execution_count": 828,
   "metadata": {},
   "outputs": [
    {
     "data": {
      "text/plain": [
       "((55, 9), (55,))"
      ]
     },
     "execution_count": 828,
     "metadata": {},
     "output_type": "execute_result"
    }
   ],
   "source": [
    "X.shape, y.shape\n"
   ]
  },
  {
   "cell_type": "code",
   "execution_count": 829,
   "metadata": {},
   "outputs": [
    {
     "name": "stderr",
     "output_type": "stream",
     "text": [
      "[Parallel(n_jobs=1)]: Using backend SequentialBackend with 1 concurrent workers.\n",
      "[Parallel(n_jobs=1)]: Done   1 out of   1 | elapsed:    0.0s remaining:    0.0s\n",
      "[Parallel(n_jobs=1)]: Done   9 out of   9 | elapsed:    0.1s finished\n",
      "\n",
      "[2022-04-04 01:37:43] Features: 1/9 -- score: 0.7454545454545455[Parallel(n_jobs=1)]: Using backend SequentialBackend with 1 concurrent workers.\n",
      "[Parallel(n_jobs=1)]: Done   1 out of   1 | elapsed:    0.0s remaining:    0.0s\n",
      "[Parallel(n_jobs=1)]: Done   8 out of   8 | elapsed:    0.1s finished\n",
      "\n",
      "[2022-04-04 01:37:43] Features: 2/9 -- score: 0.781818181818182[Parallel(n_jobs=1)]: Using backend SequentialBackend with 1 concurrent workers.\n",
      "[Parallel(n_jobs=1)]: Done   1 out of   1 | elapsed:    0.0s remaining:    0.0s\n",
      "[Parallel(n_jobs=1)]: Done   7 out of   7 | elapsed:    0.2s finished\n",
      "\n",
      "[2022-04-04 01:37:43] Features: 3/9 -- score: 0.781818181818182[Parallel(n_jobs=1)]: Using backend SequentialBackend with 1 concurrent workers.\n",
      "[Parallel(n_jobs=1)]: Done   1 out of   1 | elapsed:    0.0s remaining:    0.0s\n",
      "[Parallel(n_jobs=1)]: Done   6 out of   6 | elapsed:    0.2s finished\n",
      "\n",
      "[2022-04-04 01:37:43] Features: 4/9 -- score: 0.781818181818182[Parallel(n_jobs=1)]: Using backend SequentialBackend with 1 concurrent workers.\n",
      "[Parallel(n_jobs=1)]: Done   1 out of   1 | elapsed:    0.0s remaining:    0.0s\n",
      "[Parallel(n_jobs=1)]: Done   5 out of   5 | elapsed:    0.2s finished\n",
      "\n",
      "[2022-04-04 01:37:44] Features: 5/9 -- score: 0.7454545454545455[Parallel(n_jobs=1)]: Using backend SequentialBackend with 1 concurrent workers.\n",
      "[Parallel(n_jobs=1)]: Done   1 out of   1 | elapsed:    0.0s remaining:    0.0s\n",
      "[Parallel(n_jobs=1)]: Done   4 out of   4 | elapsed:    0.2s finished\n",
      "\n",
      "[2022-04-04 01:37:44] Features: 6/9 -- score: 0.7454545454545455[Parallel(n_jobs=1)]: Using backend SequentialBackend with 1 concurrent workers.\n",
      "[Parallel(n_jobs=1)]: Done   1 out of   1 | elapsed:    0.0s remaining:    0.0s\n",
      "[Parallel(n_jobs=1)]: Done   3 out of   3 | elapsed:    0.2s finished\n",
      "\n",
      "[2022-04-04 01:37:44] Features: 7/9 -- score: 0.7272727272727273[Parallel(n_jobs=1)]: Using backend SequentialBackend with 1 concurrent workers.\n",
      "[Parallel(n_jobs=1)]: Done   1 out of   1 | elapsed:    0.0s remaining:    0.0s\n",
      "[Parallel(n_jobs=1)]: Done   2 out of   2 | elapsed:    0.2s finished\n",
      "\n",
      "[2022-04-04 01:37:45] Features: 8/9 -- score: 0.7090909090909092[Parallel(n_jobs=1)]: Using backend SequentialBackend with 1 concurrent workers.\n",
      "[Parallel(n_jobs=1)]: Done   1 out of   1 | elapsed:    0.2s remaining:    0.0s\n",
      "[Parallel(n_jobs=1)]: Done   1 out of   1 | elapsed:    0.2s finished\n",
      "\n",
      "[2022-04-04 01:37:45] Features: 9/9 -- score: 0.690909090909091"
     ]
    }
   ],
   "source": [
    "sfs1 = SFS(#knn(n_neighbors=3),\n",
    "           #rfc(n_jobs=8),\n",
    "           LGR(max_iter=1000),\n",
    "           k_features='best', \n",
    "           forward=True, \n",
    "           floating=False, \n",
    "           verbose=2,\n",
    "           #scoring = 'neg_mean_squared_error',  # sklearn regressors\n",
    "           scoring='accuracy',  # sklearn classifiers\n",
    "           cv=5)\n",
    "\n",
    "sfs1 = sfs1.fit(X, y,custom_feature_names=feature_names)"
   ]
  },
  {
   "cell_type": "code",
   "execution_count": 830,
   "metadata": {},
   "outputs": [
    {
     "data": {
      "text/plain": [
       "'\\nfrom sklearn.metrics import precision_score, recall_score, confusion_matrix, f1_score, classification_report\\nclassifier = LGR(class_weight=\"balanced\", random_state=1, max_iter=1000, solver=\"liblinear\")\\nclassifier.fit(X, y)\\ny_pred_logistic = classifier.predict(X_test)\\nscore = classifier.score(X_test, y_test)\\ncm = confusion_matrix(y_test, y_pred_logistic)\\nprint(cm)\\nprint(classification_report(y_test, y_pred_logistic, digits=2))\\n'"
      ]
     },
     "execution_count": 830,
     "metadata": {},
     "output_type": "execute_result"
    }
   ],
   "source": [
    "\"\"\"\n",
    "from sklearn.metrics import precision_score, recall_score, confusion_matrix, f1_score, classification_report\n",
    "classifier = LGR(class_weight=\"balanced\", random_state=1, max_iter=1000, solver=\"liblinear\")\n",
    "classifier.fit(X, y)\n",
    "y_pred_logistic = classifier.predict(X_test)\n",
    "score = classifier.score(X_test, y_test)\n",
    "cm = confusion_matrix(y_test, y_pred_logistic)\n",
    "print(cm)\n",
    "print(classification_report(y_test, y_pred_logistic, digits=2))\n",
    "\"\"\""
   ]
  },
  {
   "cell_type": "code",
   "execution_count": 831,
   "metadata": {},
   "outputs": [
    {
     "data": {
      "text/plain": [
       "{1: {'feature_idx': (2,),\n",
       "  'cv_scores': array([0.81818182, 0.63636364, 0.72727273, 0.81818182, 0.72727273]),\n",
       "  'avg_score': 0.7454545454545455,\n",
       "  'feature_names': ('work',)},\n",
       " 2: {'feature_idx': (2, 5),\n",
       "  'cv_scores': array([0.72727273, 0.63636364, 0.81818182, 0.90909091, 0.81818182]),\n",
       "  'avg_score': 0.781818181818182,\n",
       "  'feature_names': ('work', 'Mean_MeanAct')},\n",
       " 3: {'feature_idx': (1, 2, 5),\n",
       "  'cv_scores': array([0.72727273, 0.63636364, 0.81818182, 0.90909091, 0.81818182]),\n",
       "  'avg_score': 0.781818181818182,\n",
       "  'feature_names': ('marriage', 'work', 'Mean_MeanAct')},\n",
       " 4: {'feature_idx': (1, 2, 5, 8),\n",
       "  'cv_scores': array([0.72727273, 0.63636364, 0.81818182, 0.90909091, 0.81818182]),\n",
       "  'avg_score': 0.781818181818182,\n",
       "  'feature_names': ('marriage', 'work', 'Mean_MeanAct', 'Std_Q99Act')},\n",
       " 5: {'feature_idx': (1, 2, 3, 5, 8),\n",
       "  'cv_scores': array([0.72727273, 0.63636364, 0.72727273, 0.81818182, 0.81818182]),\n",
       "  'avg_score': 0.7454545454545455,\n",
       "  'feature_names': ('marriage',\n",
       "   'work',\n",
       "   'madrs1',\n",
       "   'Mean_MeanAct',\n",
       "   'Std_Q99Act')},\n",
       " 6: {'feature_idx': (1, 2, 3, 4, 5, 8),\n",
       "  'cv_scores': array([0.72727273, 0.63636364, 0.72727273, 0.81818182, 0.81818182]),\n",
       "  'avg_score': 0.7454545454545455,\n",
       "  'feature_names': ('marriage',\n",
       "   'work',\n",
       "   'madrs1',\n",
       "   'madrs2',\n",
       "   'Mean_MeanAct',\n",
       "   'Std_Q99Act')},\n",
       " 7: {'feature_idx': (1, 2, 3, 4, 5, 7, 8),\n",
       "  'cv_scores': array([0.63636364, 0.54545455, 0.81818182, 0.81818182, 0.81818182]),\n",
       "  'avg_score': 0.7272727272727273,\n",
       "  'feature_names': ('marriage',\n",
       "   'work',\n",
       "   'madrs1',\n",
       "   'madrs2',\n",
       "   'Mean_MeanAct',\n",
       "   'Std_MeanAct',\n",
       "   'Std_Q99Act')},\n",
       " 8: {'feature_idx': (0, 1, 2, 3, 4, 5, 7, 8),\n",
       "  'cv_scores': array([0.63636364, 0.54545455, 0.81818182, 0.81818182, 0.72727273]),\n",
       "  'avg_score': 0.7090909090909092,\n",
       "  'feature_names': ('gender',\n",
       "   'marriage',\n",
       "   'work',\n",
       "   'madrs1',\n",
       "   'madrs2',\n",
       "   'Mean_MeanAct',\n",
       "   'Std_MeanAct',\n",
       "   'Std_Q99Act')},\n",
       " 9: {'feature_idx': (0, 1, 2, 3, 4, 5, 6, 7, 8),\n",
       "  'cv_scores': array([0.54545455, 0.45454545, 0.81818182, 0.81818182, 0.81818182]),\n",
       "  'avg_score': 0.690909090909091,\n",
       "  'feature_names': ('gender',\n",
       "   'marriage',\n",
       "   'work',\n",
       "   'madrs1',\n",
       "   'madrs2',\n",
       "   'Mean_MeanAct',\n",
       "   'Mean_Q99Act',\n",
       "   'Std_MeanAct',\n",
       "   'Std_Q99Act')}}"
      ]
     },
     "execution_count": 831,
     "metadata": {},
     "output_type": "execute_result"
    }
   ],
   "source": [
    "# Via the subsets_ attribute, we can take a look at the selected feature indices at each step:\n",
    "sfs1.subsets_"
   ]
  },
  {
   "cell_type": "code",
   "execution_count": 832,
   "metadata": {},
   "outputs": [
    {
     "data": {
      "text/plain": [
       "{1: {'feature_idx': (2,),\n",
       "  'cv_scores': array([0.81818182, 0.63636364, 0.72727273, 0.81818182, 0.72727273]),\n",
       "  'avg_score': 0.7454545454545455,\n",
       "  'feature_names': ('work',),\n",
       "  'ci_bound': 0.08743851379342243,\n",
       "  'std_dev': 0.06803013430498078,\n",
       "  'std_err': 0.034015067152490384},\n",
       " 2: {'feature_idx': (2, 5),\n",
       "  'cv_scores': array([0.72727273, 0.63636364, 0.81818182, 0.90909091, 0.81818182]),\n",
       "  'avg_score': 0.781818181818182,\n",
       "  'feature_names': ('work', 'Mean_MeanAct'),\n",
       "  'ci_bound': 0.1191586086016885,\n",
       "  'std_dev': 0.092709445701687,\n",
       "  'std_err': 0.046354722850843494},\n",
       " 3: {'feature_idx': (1, 2, 5),\n",
       "  'cv_scores': array([0.72727273, 0.63636364, 0.81818182, 0.90909091, 0.81818182]),\n",
       "  'avg_score': 0.781818181818182,\n",
       "  'feature_names': ('marriage', 'work', 'Mean_MeanAct'),\n",
       "  'ci_bound': 0.1191586086016885,\n",
       "  'std_dev': 0.092709445701687,\n",
       "  'std_err': 0.046354722850843494},\n",
       " 4: {'feature_idx': (1, 2, 5, 8),\n",
       "  'cv_scores': array([0.72727273, 0.63636364, 0.81818182, 0.90909091, 0.81818182]),\n",
       "  'avg_score': 0.781818181818182,\n",
       "  'feature_names': ('marriage', 'work', 'Mean_MeanAct', 'Std_Q99Act'),\n",
       "  'ci_bound': 0.1191586086016885,\n",
       "  'std_dev': 0.092709445701687,\n",
       "  'std_err': 0.046354722850843494},\n",
       " 5: {'feature_idx': (1, 2, 3, 5, 8),\n",
       "  'cv_scores': array([0.72727273, 0.63636364, 0.72727273, 0.81818182, 0.81818182]),\n",
       "  'avg_score': 0.7454545454545455,\n",
       "  'feature_names': ('marriage',\n",
       "   'work',\n",
       "   'madrs1',\n",
       "   'Mean_MeanAct',\n",
       "   'Std_Q99Act'),\n",
       "  'ci_bound': 0.08743851379342243,\n",
       "  'std_dev': 0.06803013430498077,\n",
       "  'std_err': 0.034015067152490384},\n",
       " 6: {'feature_idx': (1, 2, 3, 4, 5, 8),\n",
       "  'cv_scores': array([0.72727273, 0.63636364, 0.72727273, 0.81818182, 0.81818182]),\n",
       "  'avg_score': 0.7454545454545455,\n",
       "  'feature_names': ('marriage',\n",
       "   'work',\n",
       "   'madrs1',\n",
       "   'madrs2',\n",
       "   'Mean_MeanAct',\n",
       "   'Std_Q99Act'),\n",
       "  'ci_bound': 0.08743851379342243,\n",
       "  'std_dev': 0.06803013430498077,\n",
       "  'std_err': 0.034015067152490384},\n",
       " 7: {'feature_idx': (1, 2, 3, 4, 5, 7, 8),\n",
       "  'cv_scores': array([0.63636364, 0.54545455, 0.81818182, 0.81818182, 0.81818182]),\n",
       "  'avg_score': 0.7272727272727273,\n",
       "  'feature_names': ('marriage',\n",
       "   'work',\n",
       "   'madrs1',\n",
       "   'madrs2',\n",
       "   'Mean_MeanAct',\n",
       "   'Std_MeanAct',\n",
       "   'Std_Q99Act'),\n",
       "  'ci_bound': 0.1477980639192981,\n",
       "  'std_dev': 0.11499191491521384,\n",
       "  'std_err': 0.05749595745760691},\n",
       " 8: {'feature_idx': (0, 1, 2, 3, 4, 5, 7, 8),\n",
       "  'cv_scores': array([0.63636364, 0.54545455, 0.81818182, 0.81818182, 0.72727273]),\n",
       "  'avg_score': 0.7090909090909092,\n",
       "  'feature_names': ('gender',\n",
       "   'marriage',\n",
       "   'work',\n",
       "   'madrs1',\n",
       "   'madrs2',\n",
       "   'Mean_MeanAct',\n",
       "   'Std_MeanAct',\n",
       "   'Std_Q99Act'),\n",
       "  'ci_bound': 0.13626308210057847,\n",
       "  'std_dev': 0.1060173071790055,\n",
       "  'std_err': 0.05300865358950275},\n",
       " 9: {'feature_idx': (0, 1, 2, 3, 4, 5, 6, 7, 8),\n",
       "  'cv_scores': array([0.54545455, 0.45454545, 0.81818182, 0.81818182, 0.81818182]),\n",
       "  'avg_score': 0.690909090909091,\n",
       "  'feature_names': ('gender',\n",
       "   'marriage',\n",
       "   'work',\n",
       "   'madrs1',\n",
       "   'madrs2',\n",
       "   'Mean_MeanAct',\n",
       "   'Mean_Q99Act',\n",
       "   'Std_MeanAct',\n",
       "   'Std_Q99Act'),\n",
       "  'ci_bound': 0.20372557185281517,\n",
       "  'std_dev': 0.1585054161287518,\n",
       "  'std_err': 0.0792527080643759}}"
      ]
     },
     "execution_count": 832,
     "metadata": {},
     "output_type": "execute_result"
    }
   ],
   "source": [
    "sfs1.get_metric_dict()"
   ]
  },
  {
   "cell_type": "code",
   "execution_count": 833,
   "metadata": {},
   "outputs": [
    {
     "data": {
      "image/png": "[encoded data removed]",
      "text/plain": [
       "<Figure size 432x288 with 1 Axes>"
      ]
     },
     "metadata": {
      "needs_background": "light"
     },
     "output_type": "display_data"
    }
   ],
   "source": [
    "from mlxtend.plotting import plot_sequential_feature_selection as plot_sfs\n",
    "fig1 = plot_sfs(sfs1.get_metric_dict(confidence_interval=0.95), kind='std_err')\n",
    "\n",
    "plt.title('Sequential Forward Selection')\n",
    "plt.grid()\n",
    "plt.show()"
   ]
  },
  {
   "cell_type": "code",
   "execution_count": 834,
   "metadata": {},
   "outputs": [
    {
     "data": {
      "text/plain": [
       "(('work', 'Mean_MeanAct'), (2, 5))"
      ]
     },
     "execution_count": 834,
     "metadata": {},
     "output_type": "execute_result"
    }
   ],
   "source": [
    "# Lets access the indices of the best features directly via the k_feature_idx_ attribute:\n",
    "sfs1.k_feature_names_, sfs1.k_feature_idx_"
   ]
  },
  {
   "cell_type": "code",
   "execution_count": 842,
   "metadata": {},
   "outputs": [
    {
     "data": {
      "text/html": [
       "<div>\n",
       "<style scoped>\n",
       "    .dataframe tbody tr th:only-of-type {\n",
       "        vertical-align: middle;\n",
       "    }\n",
       "\n",
       "    .dataframe tbody tr th {\n",
       "        vertical-align: top;\n",
       "    }\n",
       "\n",
       "    .dataframe thead th {\n",
       "        text-align: right;\n",
       "    }\n",
       "</style>\n",
       "<table border=\"1\" class=\"dataframe\">\n",
       "  <thead>\n",
       "    <tr style=\"text-align: right;\">\n",
       "      <th></th>\n",
       "      <th>feature_idx</th>\n",
       "      <th>avg_score</th>\n",
       "    </tr>\n",
       "  </thead>\n",
       "  <tbody>\n",
       "    <tr>\n",
       "      <th>1</th>\n",
       "      <td>(2,)</td>\n",
       "      <td>0.75</td>\n",
       "    </tr>\n",
       "    <tr>\n",
       "      <th>2</th>\n",
       "      <td>(2, 5)</td>\n",
       "      <td>0.78</td>\n",
       "    </tr>\n",
       "    <tr>\n",
       "      <th>3</th>\n",
       "      <td>(1, 2, 5)</td>\n",
       "      <td>0.78</td>\n",
       "    </tr>\n",
       "    <tr>\n",
       "      <th>4</th>\n",
       "      <td>(1, 2, 5, 8)</td>\n",
       "      <td>0.78</td>\n",
       "    </tr>\n",
       "    <tr>\n",
       "      <th>5</th>\n",
       "      <td>(1, 2, 3, 5, 8)</td>\n",
       "      <td>0.75</td>\n",
       "    </tr>\n",
       "    <tr>\n",
       "      <th>6</th>\n",
       "      <td>(1, 2, 3, 4, 5, 8)</td>\n",
       "      <td>0.75</td>\n",
       "    </tr>\n",
       "    <tr>\n",
       "      <th>7</th>\n",
       "      <td>(1, 2, 3, 4, 5, 7, 8)</td>\n",
       "      <td>0.73</td>\n",
       "    </tr>\n",
       "    <tr>\n",
       "      <th>8</th>\n",
       "      <td>(0, 1, 2, 3, 4, 5, 7, 8)</td>\n",
       "      <td>0.71</td>\n",
       "    </tr>\n",
       "    <tr>\n",
       "      <th>9</th>\n",
       "      <td>(0, 1, 2, 3, 4, 5, 6, 7, 8)</td>\n",
       "      <td>0.69</td>\n",
       "    </tr>\n",
       "  </tbody>\n",
       "</table>\n",
       "</div>"
      ],
      "text/plain": [
       "                   feature_idx avg_score\n",
       "1                         (2,)      0.75\n",
       "2                       (2, 5)      0.78\n",
       "3                    (1, 2, 5)      0.78\n",
       "4                 (1, 2, 5, 8)      0.78\n",
       "5              (1, 2, 3, 5, 8)      0.75\n",
       "6           (1, 2, 3, 4, 5, 8)      0.75\n",
       "7        (1, 2, 3, 4, 5, 7, 8)      0.73\n",
       "8     (0, 1, 2, 3, 4, 5, 7, 8)      0.71\n",
       "9  (0, 1, 2, 3, 4, 5, 6, 7, 8)      0.69"
      ]
     },
     "execution_count": 842,
     "metadata": {},
     "output_type": "execute_result"
    }
   ],
   "source": [
    "pd.options.display.float_format = '{:,.2f}'.format\n",
    "df = pd.DataFrame.from_dict(sfs1.get_metric_dict()).T\n",
    "df[[\"feature_idx\",\"avg_score\"]]\n",
    "\n"
   ]
  },
  {
   "cell_type": "code",
   "execution_count": null,
   "metadata": {},
   "outputs": [],
   "source": []
  },
  {
   "cell_type": "markdown",
   "metadata": {},
   "source": [
    "### Forward Feature Selection for Regression Problem"
   ]
  },
  {
   "cell_type": "code",
   "execution_count": null,
   "metadata": {},
   "outputs": [
    {
     "name": "stderr",
     "output_type": "stream",
     "text": [
      "C:\\Users\\james\\AppData\\Local\\Programs\\Python\\Python39\\lib\\site-packages\\sklearn\\utils\\deprecation.py:87: FutureWarning: Function load_boston is deprecated; `load_boston` is deprecated in 1.0 and will be removed in 1.2.\n",
      "\n",
      "    The Boston housing prices dataset has an ethical problem. You can refer to\n",
      "    the documentation of this function for further details.\n",
      "\n",
      "    The scikit-learn maintainers therefore strongly discourage the use of this\n",
      "    dataset unless the purpose of the code is to study and educate about\n",
      "    ethical issues in data science and machine learning.\n",
      "\n",
      "    In this special case, you can fetch the dataset from the original\n",
      "    source::\n",
      "\n",
      "        import pandas as pd\n",
      "        import numpy as np\n",
      "\n",
      "\n",
      "        data_url = \"http://lib.stat.cmu.edu/datasets/boston\"\n",
      "        raw_df = pd.read_csv(data_url, sep=\"\\s+\", skiprows=22, header=None)\n",
      "        data = np.hstack([raw_df.values[::2, :], raw_df.values[1::2, :2]])\n",
      "        target = raw_df.values[1::2, 2]\n",
      "\n",
      "    Alternative datasets include the California housing dataset (i.e.\n",
      "    :func:`~sklearn.datasets.fetch_california_housing`) and the Ames housing\n",
      "    dataset. You can load the datasets as follows::\n",
      "\n",
      "        from sklearn.datasets import fetch_california_housing\n",
      "        housing = fetch_california_housing()\n",
      "\n",
      "    for the California housing dataset and::\n",
      "\n",
      "        from sklearn.datasets import fetch_openml\n",
      "        housing = fetch_openml(name=\"house_prices\", as_frame=True)\n",
      "\n",
      "    for the Ames housing dataset.\n",
      "    \n",
      "  warnings.warn(msg, category=FutureWarning)\n",
      "C:\\Users\\james\\AppData\\Local\\Temp\\ipykernel_11980\\3093636308.py:9: FutureWarning: In a future version of pandas all arguments of DataFrame.drop except for the argument 'labels' will be keyword-only.\n",
      "  X = bos.drop(\"Price\", 1)       # feature matrix\n"
     ]
    },
    {
     "name": "stdout",
     "output_type": "stream",
     "text": [
      "Selected Features : ('CRIM', 'ZN', 'INDUS', 'CHAS', 'NOX', 'RM', 'AGE', 'DIS', 'RAD', 'TAX', 'PTRATIO', 'B', 'LSTAT')\n",
      "Selected Features ID : (0, 1, 2, 3, 4, 5, 6, 7, 8, 9, 10, 11, 12)\n"
     ]
    },
    {
     "data": {
      "image/png": "[encoded data removed]",
      "text/plain": [
       "<Figure size 432x288 with 1 Axes>"
      ]
     },
     "metadata": {
      "needs_background": "light"
     },
     "output_type": "display_data"
    }
   ],
   "source": [
    "from sklearn.linear_model import LinearRegression\n",
    "from sklearn.datasets import load_boston\n",
    "import matplotlib.pyplot as plt\n",
    "from mlxtend.plotting import plot_sequential_feature_selection as plot_sfs\n",
    "\n",
    "boston = load_boston()\n",
    "bos = pd.DataFrame(boston.data, columns = boston.feature_names)\n",
    "bos['Price'] = boston.target\n",
    "X = bos.drop(\"Price\", 1)       # feature matrix\n",
    "y = bos['Price']               # target feature\n",
    "lr = LinearRegression()\n",
    "sfs = SFS(lr, \n",
    "          k_features=13,#'best', \n",
    "          forward=True, \n",
    "          floating=False, \n",
    "          scoring='neg_mean_squared_error',\n",
    "          cv=5)\n",
    "sfs = sfs.fit(X, y)\n",
    "fig = plot_sfs(sfs.get_metric_dict(), kind='std_err')\n",
    "print(\"Selected Features :\", sfs.k_feature_names_)\n",
    "print(\"Selected Features ID :\", sfs.k_feature_idx_)\n",
    "plt.title('Sequential Forward Selection (w. StdErr)')\n",
    "plt.grid()\n",
    "plt.show()"
   ]
  },
  {
   "cell_type": "code",
   "execution_count": null,
   "metadata": {},
   "outputs": [
    {
     "data": {
      "text/html": [
       "<div>\n",
       "<style scoped>\n",
       "    .dataframe tbody tr th:only-of-type {\n",
       "        vertical-align: middle;\n",
       "    }\n",
       "\n",
       "    .dataframe tbody tr th {\n",
       "        vertical-align: top;\n",
       "    }\n",
       "\n",
       "    .dataframe thead th {\n",
       "        text-align: right;\n",
       "    }\n",
       "</style>\n",
       "<table border=\"1\" class=\"dataframe\">\n",
       "  <thead>\n",
       "    <tr style=\"text-align: right;\">\n",
       "      <th></th>\n",
       "      <th>feature_idx</th>\n",
       "      <th>avg_score</th>\n",
       "    </tr>\n",
       "  </thead>\n",
       "  <tbody>\n",
       "    <tr>\n",
       "      <th>1</th>\n",
       "      <td>(12,)</td>\n",
       "      <td>-42.618473</td>\n",
       "    </tr>\n",
       "    <tr>\n",
       "      <th>2</th>\n",
       "      <td>(10, 12)</td>\n",
       "      <td>-36.06513</td>\n",
       "    </tr>\n",
       "    <tr>\n",
       "      <th>3</th>\n",
       "      <td>(5, 10, 12)</td>\n",
       "      <td>-34.100081</td>\n",
       "    </tr>\n",
       "    <tr>\n",
       "      <th>4</th>\n",
       "      <td>(3, 5, 10, 12)</td>\n",
       "      <td>-33.768085</td>\n",
       "    </tr>\n",
       "    <tr>\n",
       "      <th>5</th>\n",
       "      <td>(0, 3, 5, 10, 12)</td>\n",
       "      <td>-33.639224</td>\n",
       "    </tr>\n",
       "    <tr>\n",
       "      <th>6</th>\n",
       "      <td>(0, 3, 5, 7, 10, 12)</td>\n",
       "      <td>-33.627648</td>\n",
       "    </tr>\n",
       "    <tr>\n",
       "      <th>7</th>\n",
       "      <td>(0, 2, 3, 5, 7, 10, 12)</td>\n",
       "      <td>-32.408158</td>\n",
       "    </tr>\n",
       "    <tr>\n",
       "      <th>8</th>\n",
       "      <td>(0, 1, 2, 3, 5, 7, 10, 12)</td>\n",
       "      <td>-32.36972</td>\n",
       "    </tr>\n",
       "    <tr>\n",
       "      <th>9</th>\n",
       "      <td>(0, 1, 2, 3, 5, 7, 10, 11, 12)</td>\n",
       "      <td>-32.401565</td>\n",
       "    </tr>\n",
       "    <tr>\n",
       "      <th>10</th>\n",
       "      <td>(0, 1, 2, 3, 4, 5, 7, 10, 11, 12)</td>\n",
       "      <td>-32.850429</td>\n",
       "    </tr>\n",
       "    <tr>\n",
       "      <th>11</th>\n",
       "      <td>(0, 1, 2, 3, 4, 5, 6, 7, 10, 11, 12)</td>\n",
       "      <td>-34.106499</td>\n",
       "    </tr>\n",
       "    <tr>\n",
       "      <th>12</th>\n",
       "      <td>(0, 1, 2, 3, 4, 5, 6, 7, 9, 10, 11, 12)</td>\n",
       "      <td>-35.581366</td>\n",
       "    </tr>\n",
       "    <tr>\n",
       "      <th>13</th>\n",
       "      <td>(0, 1, 2, 3, 4, 5, 6, 7, 8, 9, 10, 11, 12)</td>\n",
       "      <td>-37.131807</td>\n",
       "    </tr>\n",
       "  </tbody>\n",
       "</table>\n",
       "</div>"
      ],
      "text/plain": [
       "                                   feature_idx  avg_score\n",
       "1                                        (12,) -42.618473\n",
       "2                                     (10, 12)  -36.06513\n",
       "3                                  (5, 10, 12) -34.100081\n",
       "4                               (3, 5, 10, 12) -33.768085\n",
       "5                            (0, 3, 5, 10, 12) -33.639224\n",
       "6                         (0, 3, 5, 7, 10, 12) -33.627648\n",
       "7                      (0, 2, 3, 5, 7, 10, 12) -32.408158\n",
       "8                   (0, 1, 2, 3, 5, 7, 10, 12)  -32.36972\n",
       "9               (0, 1, 2, 3, 5, 7, 10, 11, 12) -32.401565\n",
       "10           (0, 1, 2, 3, 4, 5, 7, 10, 11, 12) -32.850429\n",
       "11        (0, 1, 2, 3, 4, 5, 6, 7, 10, 11, 12) -34.106499\n",
       "12     (0, 1, 2, 3, 4, 5, 6, 7, 9, 10, 11, 12) -35.581366\n",
       "13  (0, 1, 2, 3, 4, 5, 6, 7, 8, 9, 10, 11, 12) -37.131807"
      ]
     },
     "execution_count": 793,
     "metadata": {},
     "output_type": "execute_result"
    }
   ],
   "source": [
    "df = pd.DataFrame.from_dict(sfs.get_metric_dict()).T\n",
    "df[[\"feature_idx\",\"avg_score\"]]"
   ]
  },
  {
   "cell_type": "markdown",
   "metadata": {},
   "source": [
    "## Backward Feature Selection for Classification Problem"
   ]
  },
  {
   "cell_type": "markdown",
   "metadata": {},
   "source": [
    "In short, the steps involved in backward elimination are as follows:\n",
    "\n",
    "- Choose a significance level (e.g. SL = 0.05 with a 95% confidence).\n",
    "- Fit a full model including all the features.\n",
    "- Consider the feature with the highest p-value. If the p-value > significance level then go to Step 4, otherwise terminate the process.\n",
    "- Remove the feature which is under consideration.\n",
    "- Fit a model without this feature. Repeat the entire process from Step 3."
   ]
  },
  {
   "cell_type": "code",
   "execution_count": null,
   "metadata": {},
   "outputs": [],
   "source": [
    "import pandas as pd\n",
    "import numpy as np\n",
    "import seaborn as sns\n",
    "import matplotlib.pyplot as plt"
   ]
  },
  {
   "cell_type": "code",
   "execution_count": null,
   "metadata": {},
   "outputs": [],
   "source": [
    "#Load the dataset #https://www.kaggle.com/burak3ergun/loan-data-set\n",
    "df_wine = pd.read_csv(\"new_scores2.csv\")\n",
    "df_wine.drop(labels=[\"Unnamed: 0\",\"number\",\"age\",\"afftype\", \"melanch\",\"inpatient\",\"DeltaMADRS\",\"days\",'CV_MeanAct','CV_Q99Act',\"Stress\"],axis=1,inplace=True)\n",
    "\n",
    "df_wine.reset_index(drop=True,inplace=True)"
   ]
  },
  {
   "cell_type": "code",
   "execution_count": null,
   "metadata": {},
   "outputs": [],
   "source": [
    "X = df_wine.iloc[:,0:-1]\n",
    "y = df_wine[\"depressed\"]"
   ]
  },
  {
   "cell_type": "code",
   "execution_count": null,
   "metadata": {},
   "outputs": [
    {
     "data": {
      "text/plain": [
       "('gender',\n",
       " 'marriage',\n",
       " 'work',\n",
       " 'madrs1',\n",
       " 'madrs2',\n",
       " 'Mean_MeanAct',\n",
       " 'Mean_Q99Act',\n",
       " 'Std_MeanAct',\n",
       " 'Std_Q99Act')"
      ]
     },
     "execution_count": 797,
     "metadata": {},
     "output_type": "execute_result"
    }
   ],
   "source": [
    "feature_names = tuple(X.columns)\n",
    "feature_names"
   ]
  },
  {
   "cell_type": "code",
   "execution_count": null,
   "metadata": {},
   "outputs": [],
   "source": [
    "# http://rasbt.github.io/mlxtend/user_guide/feature_selection/SequentialFeatureSelector/\n",
    "# Lets use the built in function in Python\n",
    "from mlxtend.feature_selection import SequentialFeatureSelector as SFS\n",
    "from sklearn.neighbors import KNeighborsClassifier as knn\n",
    "from sklearn.linear_model import LogisticRegression as LGR\n",
    "from sklearn.ensemble import RandomForestClassifier as rfc\n",
    "from mlxtend.plotting import plot_sequential_feature_selection as plot_sfs"
   ]
  },
  {
   "cell_type": "code",
   "execution_count": null,
   "metadata": {},
   "outputs": [
    {
     "name": "stderr",
     "output_type": "stream",
     "text": [
      "[Parallel(n_jobs=1)]: Using backend SequentialBackend with 1 concurrent workers.\n",
      "[Parallel(n_jobs=1)]: Done   1 out of   1 | elapsed:    0.0s remaining:    0.0s\n",
      "[Parallel(n_jobs=1)]: Done   9 out of   9 | elapsed:    1.2s finished\n",
      "\n",
      "[2022-04-04 01:18:45] Features: 8/1 -- score: 0.7090909090909092[Parallel(n_jobs=1)]: Using backend SequentialBackend with 1 concurrent workers.\n",
      "[Parallel(n_jobs=1)]: Done   1 out of   1 | elapsed:    0.0s remaining:    0.0s\n",
      "[Parallel(n_jobs=1)]: Done   8 out of   8 | elapsed:    0.7s finished\n",
      "\n",
      "[2022-04-04 01:18:46] Features: 7/1 -- score: 0.7272727272727273[Parallel(n_jobs=1)]: Using backend SequentialBackend with 1 concurrent workers.\n",
      "[Parallel(n_jobs=1)]: Done   1 out of   1 | elapsed:    0.0s remaining:    0.0s\n",
      "[Parallel(n_jobs=1)]: Done   7 out of   7 | elapsed:    0.4s finished\n",
      "\n",
      "[2022-04-04 01:18:47] Features: 6/1 -- score: 0.7636363636363637[Parallel(n_jobs=1)]: Using backend SequentialBackend with 1 concurrent workers.\n",
      "[Parallel(n_jobs=1)]: Done   1 out of   1 | elapsed:    0.0s remaining:    0.0s\n",
      "[Parallel(n_jobs=1)]: Done   6 out of   6 | elapsed:    0.2s finished\n",
      "\n",
      "[2022-04-04 01:18:47] Features: 5/1 -- score: 0.7454545454545455[Parallel(n_jobs=1)]: Using backend SequentialBackend with 1 concurrent workers.\n",
      "[Parallel(n_jobs=1)]: Done   1 out of   1 | elapsed:    0.0s remaining:    0.0s\n",
      "[Parallel(n_jobs=1)]: Done   5 out of   5 | elapsed:    0.1s finished\n",
      "\n",
      "[2022-04-04 01:18:47] Features: 4/1 -- score: 0.7636363636363637[Parallel(n_jobs=1)]: Using backend SequentialBackend with 1 concurrent workers.\n",
      "[Parallel(n_jobs=1)]: Done   1 out of   1 | elapsed:    0.0s remaining:    0.0s\n",
      "[Parallel(n_jobs=1)]: Done   4 out of   4 | elapsed:    0.0s finished\n",
      "\n",
      "[2022-04-04 01:18:47] Features: 3/1 -- score: 0.781818181818182[Parallel(n_jobs=1)]: Using backend SequentialBackend with 1 concurrent workers.\n",
      "[Parallel(n_jobs=1)]: Done   1 out of   1 | elapsed:    0.0s remaining:    0.0s\n",
      "[Parallel(n_jobs=1)]: Done   3 out of   3 | elapsed:    0.0s finished\n",
      "\n",
      "[2022-04-04 01:18:47] Features: 2/1 -- score: 0.781818181818182[Parallel(n_jobs=1)]: Using backend SequentialBackend with 1 concurrent workers.\n",
      "[Parallel(n_jobs=1)]: Done   1 out of   1 | elapsed:    0.0s remaining:    0.0s\n",
      "[Parallel(n_jobs=1)]: Done   2 out of   2 | elapsed:    0.0s finished\n",
      "\n",
      "[2022-04-04 01:18:48] Features: 1/1 -- score: 0.7454545454545455"
     ]
    }
   ],
   "source": [
    "sbs = SFS(#knn(n_neighbors=3),\n",
    "           #rfc(n_jobs=8),\n",
    "           LGR(max_iter=4000),\n",
    "           k_features='best', \n",
    "           forward=False, \n",
    "           floating=False, \n",
    "           verbose=2,\n",
    "           #scoring = 'neg_mean_squared_error',  # sklearn regressors\n",
    "           scoring='accuracy',  # sklearn classifiers\n",
    "           cv=5)\n",
    "sbs = sbs.fit(X, y,custom_feature_names=feature_names)"
   ]
  },
  {
   "cell_type": "code",
   "execution_count": null,
   "metadata": {},
   "outputs": [],
   "source": []
  },
  {
   "cell_type": "code",
   "execution_count": null,
   "metadata": {},
   "outputs": [
    {
     "data": {
      "text/plain": [
       "(('work', 'Mean_MeanAct', 'Std_MeanAct'), (2, 5, 7))"
      ]
     },
     "execution_count": 800,
     "metadata": {},
     "output_type": "execute_result"
    }
   ],
   "source": [
    "#print(\"Selected Features :\", sbs.k_feature_names_)\n",
    "sbs.k_feature_names_, sbs.k_feature_idx_"
   ]
  },
  {
   "cell_type": "code",
   "execution_count": null,
   "metadata": {},
   "outputs": [],
   "source": [
    "#df.style.set_properties(**{'text-align': 'left'})\n",
    "df = pd.DataFrame.from_dict(sbs.get_metric_dict()).T\n",
    "df = df[[\"feature_idx\",\"avg_score\"]]\n",
    "#[\"feature_names\"] = df[\"feature_names\"].str.wrap(1000) #to set max line width of 100"
   ]
  },
  {
   "cell_type": "code",
   "execution_count": null,
   "metadata": {},
   "outputs": [
    {
     "data": {
      "text/html": [
       "<div>\n",
       "<style scoped>\n",
       "    .dataframe tbody tr th:only-of-type {\n",
       "        vertical-align: middle;\n",
       "    }\n",
       "\n",
       "    .dataframe tbody tr th {\n",
       "        vertical-align: top;\n",
       "    }\n",
       "\n",
       "    .dataframe thead th {\n",
       "        text-align: right;\n",
       "    }\n",
       "</style>\n",
       "<table border=\"1\" class=\"dataframe\">\n",
       "  <thead>\n",
       "    <tr style=\"text-align: right;\">\n",
       "      <th></th>\n",
       "      <th>feature_idx</th>\n",
       "      <th>avg_score</th>\n",
       "    </tr>\n",
       "  </thead>\n",
       "  <tbody>\n",
       "    <tr>\n",
       "      <th>9</th>\n",
       "      <td>(0, 1, 2, 3, 4, 5, 6, 7, 8)</td>\n",
       "      <td>0.690909</td>\n",
       "    </tr>\n",
       "    <tr>\n",
       "      <th>8</th>\n",
       "      <td>(0, 1, 2, 3, 4, 5, 6, 7)</td>\n",
       "      <td>0.709091</td>\n",
       "    </tr>\n",
       "    <tr>\n",
       "      <th>7</th>\n",
       "      <td>(0, 1, 2, 3, 4, 5, 7)</td>\n",
       "      <td>0.727273</td>\n",
       "    </tr>\n",
       "    <tr>\n",
       "      <th>6</th>\n",
       "      <td>(0, 1, 2, 4, 5, 7)</td>\n",
       "      <td>0.763636</td>\n",
       "    </tr>\n",
       "    <tr>\n",
       "      <th>5</th>\n",
       "      <td>(0, 1, 2, 5, 7)</td>\n",
       "      <td>0.745455</td>\n",
       "    </tr>\n",
       "    <tr>\n",
       "      <th>4</th>\n",
       "      <td>(0, 2, 5, 7)</td>\n",
       "      <td>0.763636</td>\n",
       "    </tr>\n",
       "    <tr>\n",
       "      <th>3</th>\n",
       "      <td>(2, 5, 7)</td>\n",
       "      <td>0.781818</td>\n",
       "    </tr>\n",
       "    <tr>\n",
       "      <th>2</th>\n",
       "      <td>(2, 5)</td>\n",
       "      <td>0.781818</td>\n",
       "    </tr>\n",
       "    <tr>\n",
       "      <th>1</th>\n",
       "      <td>(2,)</td>\n",
       "      <td>0.745455</td>\n",
       "    </tr>\n",
       "  </tbody>\n",
       "</table>\n",
       "</div>"
      ],
      "text/plain": [
       "                   feature_idx avg_score\n",
       "9  (0, 1, 2, 3, 4, 5, 6, 7, 8)  0.690909\n",
       "8     (0, 1, 2, 3, 4, 5, 6, 7)  0.709091\n",
       "7        (0, 1, 2, 3, 4, 5, 7)  0.727273\n",
       "6           (0, 1, 2, 4, 5, 7)  0.763636\n",
       "5              (0, 1, 2, 5, 7)  0.745455\n",
       "4                 (0, 2, 5, 7)  0.763636\n",
       "3                    (2, 5, 7)  0.781818\n",
       "2                       (2, 5)  0.781818\n",
       "1                         (2,)  0.745455"
      ]
     },
     "execution_count": 802,
     "metadata": {},
     "output_type": "execute_result"
    }
   ],
   "source": [
    "df"
   ]
  },
  {
   "cell_type": "code",
   "execution_count": null,
   "metadata": {},
   "outputs": [
    {
     "data": {
      "text/plain": [
       "{9: {'feature_idx': (0, 1, 2, 3, 4, 5, 6, 7, 8),\n",
       "  'cv_scores': array([0.54545455, 0.45454545, 0.81818182, 0.81818182, 0.81818182]),\n",
       "  'avg_score': 0.690909090909091,\n",
       "  'feature_names': ('gender',\n",
       "   'marriage',\n",
       "   'work',\n",
       "   'madrs1',\n",
       "   'madrs2',\n",
       "   'Mean_MeanAct',\n",
       "   'Mean_Q99Act',\n",
       "   'Std_MeanAct',\n",
       "   'Std_Q99Act')},\n",
       " 8: {'feature_idx': (0, 1, 2, 3, 4, 5, 6, 7),\n",
       "  'cv_scores': array([0.63636364, 0.45454545, 0.81818182, 0.81818182, 0.81818182]),\n",
       "  'avg_score': 0.7090909090909092,\n",
       "  'feature_names': ('gender',\n",
       "   'marriage',\n",
       "   'work',\n",
       "   'madrs1',\n",
       "   'madrs2',\n",
       "   'Mean_MeanAct',\n",
       "   'Mean_Q99Act',\n",
       "   'Std_MeanAct')},\n",
       " 7: {'feature_idx': (0, 1, 2, 3, 4, 5, 7),\n",
       "  'cv_scores': array([0.63636364, 0.54545455, 0.81818182, 0.81818182, 0.81818182]),\n",
       "  'avg_score': 0.7272727272727273,\n",
       "  'feature_names': ('gender',\n",
       "   'marriage',\n",
       "   'work',\n",
       "   'madrs1',\n",
       "   'madrs2',\n",
       "   'Mean_MeanAct',\n",
       "   'Std_MeanAct')},\n",
       " 6: {'feature_idx': (0, 1, 2, 4, 5, 7),\n",
       "  'cv_scores': array([0.72727273, 0.54545455, 0.81818182, 0.90909091, 0.81818182]),\n",
       "  'avg_score': 0.7636363636363637,\n",
       "  'feature_names': ('gender',\n",
       "   'marriage',\n",
       "   'work',\n",
       "   'madrs2',\n",
       "   'Mean_MeanAct',\n",
       "   'Std_MeanAct')},\n",
       " 5: {'feature_idx': (0, 1, 2, 5, 7),\n",
       "  'cv_scores': array([0.72727273, 0.54545455, 0.81818182, 0.90909091, 0.72727273]),\n",
       "  'avg_score': 0.7454545454545455,\n",
       "  'feature_names': ('gender',\n",
       "   'marriage',\n",
       "   'work',\n",
       "   'Mean_MeanAct',\n",
       "   'Std_MeanAct')},\n",
       " 4: {'feature_idx': (0, 2, 5, 7),\n",
       "  'cv_scores': array([0.72727273, 0.54545455, 0.81818182, 0.90909091, 0.81818182]),\n",
       "  'avg_score': 0.7636363636363637,\n",
       "  'feature_names': ('gender', 'work', 'Mean_MeanAct', 'Std_MeanAct')},\n",
       " 3: {'feature_idx': (2, 5, 7),\n",
       "  'cv_scores': array([0.72727273, 0.63636364, 0.81818182, 0.90909091, 0.81818182]),\n",
       "  'avg_score': 0.781818181818182,\n",
       "  'feature_names': ('work', 'Mean_MeanAct', 'Std_MeanAct')},\n",
       " 2: {'feature_idx': (2, 5),\n",
       "  'cv_scores': array([0.72727273, 0.63636364, 0.81818182, 0.90909091, 0.81818182]),\n",
       "  'avg_score': 0.781818181818182,\n",
       "  'feature_names': ('work', 'Mean_MeanAct')},\n",
       " 1: {'feature_idx': (2,),\n",
       "  'cv_scores': array([0.81818182, 0.63636364, 0.72727273, 0.81818182, 0.72727273]),\n",
       "  'avg_score': 0.7454545454545455,\n",
       "  'feature_names': ('work',)}}"
      ]
     },
     "execution_count": 803,
     "metadata": {},
     "output_type": "execute_result"
    }
   ],
   "source": [
    "sbs.subsets_"
   ]
  },
  {
   "cell_type": "code",
   "execution_count": null,
   "metadata": {},
   "outputs": [
    {
     "name": "stdout",
     "output_type": "stream",
     "text": [
      "Selected Features : ('work', 'Mean_MeanAct', 'Std_MeanAct')\n",
      "Selected Features ID : (2, 5, 7)\n"
     ]
    },
    {
     "data": {
      "image/png": "[encoded data removed]",
      "text/plain": [
       "<Figure size 432x288 with 1 Axes>"
      ]
     },
     "metadata": {
      "needs_background": "light"
     },
     "output_type": "display_data"
    }
   ],
   "source": [
    "fig = plot_sfs(sbs.get_metric_dict(), kind='std_err')\n",
    "print(\"Selected Features :\", sbs.k_feature_names_)\n",
    "print(\"Selected Features ID :\", sbs.k_feature_idx_)\n",
    "plt.title('Sequential Forward Selection (w. StdErr)')\n",
    "plt.grid()\n",
    "plt.show()"
   ]
  },
  {
   "cell_type": "markdown",
   "metadata": {},
   "source": [
    "**Disadvantages of Forward and Backward Feature Selection**\n",
    "\n",
    "1. Since we know that SFS adds features at each iteration, a problem can occur when we add up a feature that was useful in the beginning, but after adding more ones, is now non-useful. At this point, there’s no way to remove this kind of feature.\n",
    "2. The same thing happens to SBS but in the reverse direction—this is because of the inability of SBS to see the usefulness of a feature after being removed from the feature set.\n",
    "3. For above reasons, and for more generalization for SBS and SFS, there are two methods that can solve such an issue: \n",
    "\n",
    "    - Exhaustive Feature Selection\n",
    "    - Recursive Feature Elimination"
   ]
  },
  {
   "cell_type": "markdown",
   "metadata": {},
   "source": [
    "## Exhaustive Feature Selection\n",
    "\n",
    "This is the most robust feature selection method covered so far. This is a brute-force evaluation of each feature subset. This means that it tries every possible combination of the variables and returns the best performing subset."
   ]
  },
  {
   "cell_type": "code",
   "execution_count": null,
   "metadata": {},
   "outputs": [],
   "source": [
    "import pandas as pd\n",
    "import numpy as np\n",
    "import matplotlib.pyplot as plt\n",
    "from sklearn.neighbors import KNeighborsClassifier as knn\n",
    "from sklearn.linear_model import LogisticRegression as LGR\n",
    "from mlxtend.feature_selection import ExhaustiveFeatureSelector\n",
    "from mlxtend.plotting import plot_sequential_feature_selection"
   ]
  },
  {
   "cell_type": "code",
   "execution_count": null,
   "metadata": {},
   "outputs": [],
   "source": [
    "from sklearn.datasets import load_iris\n",
    "df_wine = pd.read_csv(\"new_scores2.csv\")\n",
    "df_wine.drop(labels=[\"Unnamed: 0\",\"number\",\"age\",\"afftype\", \"melanch\",\"inpatient\",\"DeltaMADRS\",\"days\",'CV_MeanAct','CV_Q99Act',\"Stress\"],axis=1,inplace=True)\n",
    "\n",
    "df_wine.reset_index(drop=True,inplace=True)"
   ]
  },
  {
   "cell_type": "code",
   "execution_count": null,
   "metadata": {},
   "outputs": [],
   "source": [
    "X = df_wine.iloc[:,0:-1]\n",
    "y = df_wine[\"depressed\"]"
   ]
  },
  {
   "cell_type": "code",
   "execution_count": null,
   "metadata": {},
   "outputs": [
    {
     "data": {
      "text/plain": [
       "('gender',\n",
       " 'marriage',\n",
       " 'work',\n",
       " 'madrs1',\n",
       " 'madrs2',\n",
       " 'Mean_MeanAct',\n",
       " 'Mean_Q99Act',\n",
       " 'Std_MeanAct',\n",
       " 'Std_Q99Act')"
      ]
     },
     "execution_count": 808,
     "metadata": {},
     "output_type": "execute_result"
    }
   ],
   "source": [
    "feature_names = tuple(X.columns)\n",
    "feature_names"
   ]
  },
  {
   "cell_type": "code",
   "execution_count": null,
   "metadata": {},
   "outputs": [],
   "source": [
    "efs = ExhaustiveFeatureSelector(\n",
    "           #knn(n_neighbors=3),\n",
    "           #rfc(n_jobs=8),\n",
    "           LGR(max_iter=100),\n",
    "           min_features=1, \n",
    "           max_features=9, \n",
    "           #scoring = 'neg_mean_squared_error',  # sklearn regressors\n",
    "           scoring='accuracy',  # sklearn classifiers,\n",
    "           n_jobs=8,\n",
    "           cv=5)"
   ]
  },
  {
   "cell_type": "code",
   "execution_count": null,
   "metadata": {},
   "outputs": [
    {
     "name": "stderr",
     "output_type": "stream",
     "text": [
      "Features: 511/511"
     ]
    }
   ],
   "source": [
    "efs = efs.fit(X, y,custom_feature_names=feature_names)"
   ]
  },
  {
   "cell_type": "code",
   "execution_count": null,
   "metadata": {},
   "outputs": [],
   "source": []
  },
  {
   "cell_type": "code",
   "execution_count": null,
   "metadata": {},
   "outputs": [
    {
     "data": {
      "text/plain": [
       "('work', 'Mean_MeanAct', 'Std_MeanAct', 'Std_Q99Act')"
      ]
     },
     "execution_count": 811,
     "metadata": {},
     "output_type": "execute_result"
    }
   ],
   "source": [
    "efs.best_feature_names_"
   ]
  },
  {
   "cell_type": "code",
   "execution_count": null,
   "metadata": {},
   "outputs": [
    {
     "data": {
      "text/plain": [
       "0.8"
      ]
     },
     "execution_count": 812,
     "metadata": {},
     "output_type": "execute_result"
    }
   ],
   "source": [
    "efs.best_score_"
   ]
  },
  {
   "cell_type": "code",
   "execution_count": null,
   "metadata": {},
   "outputs": [
    {
     "data": {
      "text/html": [
       "<div>\n",
       "<style scoped>\n",
       "    .dataframe tbody tr th:only-of-type {\n",
       "        vertical-align: middle;\n",
       "    }\n",
       "\n",
       "    .dataframe tbody tr th {\n",
       "        vertical-align: top;\n",
       "    }\n",
       "\n",
       "    .dataframe thead th {\n",
       "        text-align: right;\n",
       "    }\n",
       "</style>\n",
       "<table border=\"1\" class=\"dataframe\">\n",
       "  <thead>\n",
       "    <tr style=\"text-align: right;\">\n",
       "      <th></th>\n",
       "      <th>feature_idx</th>\n",
       "      <th>avg_score</th>\n",
       "    </tr>\n",
       "  </thead>\n",
       "  <tbody>\n",
       "    <tr>\n",
       "      <th>0</th>\n",
       "      <td>(0,)</td>\n",
       "      <td>0.509091</td>\n",
       "    </tr>\n",
       "    <tr>\n",
       "      <th>1</th>\n",
       "      <td>(1,)</td>\n",
       "      <td>0.581818</td>\n",
       "    </tr>\n",
       "    <tr>\n",
       "      <th>2</th>\n",
       "      <td>(2,)</td>\n",
       "      <td>0.745455</td>\n",
       "    </tr>\n",
       "    <tr>\n",
       "      <th>3</th>\n",
       "      <td>(3,)</td>\n",
       "      <td>0.6</td>\n",
       "    </tr>\n",
       "    <tr>\n",
       "      <th>4</th>\n",
       "      <td>(4,)</td>\n",
       "      <td>0.672727</td>\n",
       "    </tr>\n",
       "    <tr>\n",
       "      <th>...</th>\n",
       "      <td>...</td>\n",
       "      <td>...</td>\n",
       "    </tr>\n",
       "    <tr>\n",
       "      <th>506</th>\n",
       "      <td>(0, 1, 2, 4, 5, 6, 7, 8)</td>\n",
       "      <td>0.709091</td>\n",
       "    </tr>\n",
       "    <tr>\n",
       "      <th>507</th>\n",
       "      <td>(0, 1, 3, 4, 5, 6, 7, 8)</td>\n",
       "      <td>0.636364</td>\n",
       "    </tr>\n",
       "    <tr>\n",
       "      <th>508</th>\n",
       "      <td>(0, 2, 3, 4, 5, 6, 7, 8)</td>\n",
       "      <td>0.690909</td>\n",
       "    </tr>\n",
       "    <tr>\n",
       "      <th>509</th>\n",
       "      <td>(1, 2, 3, 4, 5, 6, 7, 8)</td>\n",
       "      <td>0.690909</td>\n",
       "    </tr>\n",
       "    <tr>\n",
       "      <th>510</th>\n",
       "      <td>(0, 1, 2, 3, 4, 5, 6, 7, 8)</td>\n",
       "      <td>0.690909</td>\n",
       "    </tr>\n",
       "  </tbody>\n",
       "</table>\n",
       "<p>511 rows × 2 columns</p>\n",
       "</div>"
      ],
      "text/plain": [
       "                     feature_idx avg_score\n",
       "0                           (0,)  0.509091\n",
       "1                           (1,)  0.581818\n",
       "2                           (2,)  0.745455\n",
       "3                           (3,)       0.6\n",
       "4                           (4,)  0.672727\n",
       "..                           ...       ...\n",
       "506     (0, 1, 2, 4, 5, 6, 7, 8)  0.709091\n",
       "507     (0, 1, 3, 4, 5, 6, 7, 8)  0.636364\n",
       "508     (0, 2, 3, 4, 5, 6, 7, 8)  0.690909\n",
       "509     (1, 2, 3, 4, 5, 6, 7, 8)  0.690909\n",
       "510  (0, 1, 2, 3, 4, 5, 6, 7, 8)  0.690909\n",
       "\n",
       "[511 rows x 2 columns]"
      ]
     },
     "execution_count": 813,
     "metadata": {},
     "output_type": "execute_result"
    }
   ],
   "source": [
    "df = pd.DataFrame.from_dict(efs.get_metric_dict()).T\n",
    "df = df[[\"feature_idx\",\"avg_score\"]]\n",
    "df"
   ]
  },
  {
   "cell_type": "markdown",
   "metadata": {},
   "source": [
    "**Advantages:**\n",
    "1. They detect the interaction between variables\n",
    "2. They find the optimal feature subset for the desired machine learning algorithm\n",
    "\n",
    "**Disadvantages:**\n",
    "1. Computationaly are very expensive and takes lots of time."
   ]
  },
  {
   "cell_type": "code",
   "execution_count": null,
   "metadata": {},
   "outputs": [],
   "source": []
  },
  {
   "cell_type": "code",
   "execution_count": null,
   "metadata": {},
   "outputs": [],
   "source": []
  },
  {
   "cell_type": "code",
   "execution_count": null,
   "metadata": {},
   "outputs": [],
   "source": []
  },
  {
   "cell_type": "code",
   "execution_count": null,
   "metadata": {},
   "outputs": [],
   "source": []
  }
 ],
 "metadata": {
  "kernelspec": {
   "display_name": "Python 3",
   "language": "python",
   "name": "python3"
  },
  "language_info": {
   "codemirror_mode": {
    "name": "ipython",
    "version": 3
   },
   "file_extension": ".py",
   "mimetype": "text/x-python",
   "name": "python",
   "nbconvert_exporter": "python",
   "pygments_lexer": "ipython3",
   "version": "3.9.7"
  }
 },
 "nbformat": 4,
 "nbformat_minor": 4
}
